{
 "cells": [
  {
   "cell_type": "code",
   "execution_count": 4,
   "id": "dee8e0a0-ac02-4c5d-a702-7974af92ca7e",
   "metadata": {},
   "outputs": [
    {
     "name": "stdout",
     "output_type": "stream",
     "text": [
      "Hizb Ullah\n",
      "Hizb Ullah Jan\n"
     ]
    }
   ],
   "source": [
    "class Person:\n",
    "    def __init__(self, fname, lname):\n",
    "        self.firstname = fname\n",
    "        self.lastname = lname\n",
    "\n",
    "    def printname(self):\n",
    "        print(self.firstname, self.lastname)\n",
    "\n",
    "x = Person(\"Hizb\" , \"Ullah\")\n",
    "x.printname()\n",
    "\n",
    "class Student(Person):\n",
    "    pass\n",
    "x = Student(\"Hizb Ullah\" , \"Jan\")\n",
    "x.printname()"
   ]
  },
  {
   "cell_type": "code",
   "execution_count": 4,
   "id": "b9de07f1-546d-42a3-b919-626a2e019116",
   "metadata": {},
   "outputs": [
    {
     "ename": "AttributeError",
     "evalue": "'super' object has no attribute 'seating_capacity'",
     "output_type": "error",
     "traceback": [
      "\u001b[1;31m---------------------------------------------------------------------------\u001b[0m",
      "\u001b[1;31mAttributeError\u001b[0m                            Traceback (most recent call last)",
      "Cell \u001b[1;32mIn[4], line 12\u001b[0m\n\u001b[0;32m     10\u001b[0m         \u001b[38;5;28;01mreturn\u001b[39;00m \u001b[38;5;28msuper\u001b[39m()\u001b[38;5;241m.\u001b[39mseating_capacity(capacity \u001b[38;5;241m=\u001b[39m\u001b[38;5;241m50\u001b[39m)\n\u001b[0;32m     11\u001b[0m school_bus \u001b[38;5;241m=\u001b[39m Bus(\u001b[38;5;124m\"\u001b[39m\u001b[38;5;124mCity Bus\u001b[39m\u001b[38;5;124m\"\u001b[39m,\u001b[38;5;241m180\u001b[39m,\u001b[38;5;241m12\u001b[39m)\n\u001b[1;32m---> 12\u001b[0m \u001b[38;5;28mprint\u001b[39m(school_bus\u001b[38;5;241m.\u001b[39mseating_capacity())\n",
      "Cell \u001b[1;32mIn[4], line 10\u001b[0m, in \u001b[0;36mBus.seating_capacity\u001b[1;34m(self, capacity)\u001b[0m\n\u001b[0;32m      9\u001b[0m \u001b[38;5;28;01mdef\u001b[39;00m \u001b[38;5;21mseating_capacity\u001b[39m(\u001b[38;5;28mself\u001b[39m,capacity\u001b[38;5;241m=\u001b[39m\u001b[38;5;241m50\u001b[39m):\n\u001b[1;32m---> 10\u001b[0m     \u001b[38;5;28;01mreturn\u001b[39;00m \u001b[38;5;28msuper\u001b[39m()\u001b[38;5;241m.\u001b[39mseating_capacity(capacity \u001b[38;5;241m=\u001b[39m\u001b[38;5;241m50\u001b[39m)\n",
      "\u001b[1;31mAttributeError\u001b[0m: 'super' object has no attribute 'seating_capacity'"
     ]
    }
   ],
   "source": [
    "class vehicle:\n",
    "    def __init__(self,name, max_speed, milege):\n",
    "        self.name=name\n",
    "        self.max_speed=max_speed\n",
    "        self.milege=milege\n",
    "    def seating_caacity(self,capacity):\n",
    "        return f\"The seating capacity of a {self.name}is {capacity}passenger\"\n",
    "class Bus(vehicle):\n",
    "    def seating_capacity(self,capacity=50):\n",
    "        return super().seating_capacity(capacity =50)\n",
    "school_bus = Bus(\"City Bus\",180,12)\n",
    "print(school_bus.seating_capacity())\n",
    "        "
   ]
  },
  {
   "cell_type": "code",
   "execution_count": 5,
   "id": "6ecabd9f-4a66-4d15-b8f5-ea8c14593c70",
   "metadata": {},
   "outputs": [
    {
     "name": "stdout",
     "output_type": "stream",
     "text": [
      "The seating capacity of a City Bus is 50 passengers\n"
     ]
    }
   ],
   "source": [
    "class Vehicle:\n",
    "    def __init__(self, name, max_speed, milege):\n",
    "        self.name = name\n",
    "        self.max_speed = max_speed\n",
    "        self.milege = milege\n",
    "\n",
    "    def seating_capacity(self, capacity):\n",
    "        return f\"The seating capacity of a {self.name} is {capacity} passengers\"\n",
    "\n",
    "class Bus(Vehicle):\n",
    "    def seating_capacity(self, capacity=50):\n",
    "        return super().seating_capacity(capacity=capacity)\n",
    "\n",
    "school_bus = Bus(\"City Bus\", 180, 12)\n",
    "print(school_bus.seating_capacity())\n"
   ]
  }
 ],
 "metadata": {
  "kernelspec": {
   "display_name": "Python 3 (ipykernel)",
   "language": "python",
   "name": "python3"
  },
  "language_info": {
   "codemirror_mode": {
    "name": "ipython",
    "version": 3
   },
   "file_extension": ".py",
   "mimetype": "text/x-python",
   "name": "python",
   "nbconvert_exporter": "python",
   "pygments_lexer": "ipython3",
   "version": "3.11.7"
  }
 },
 "nbformat": 4,
 "nbformat_minor": 5
}
