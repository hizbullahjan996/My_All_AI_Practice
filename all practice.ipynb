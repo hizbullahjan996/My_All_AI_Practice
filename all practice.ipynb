{
 "cells": [
  {
   "cell_type": "code",
   "execution_count": null,
   "metadata": {},
   "outputs": [],
   "source": [
    "total_class=int(input(\"Enter Total No of Class =\"))\n",
    "attandance=int(input(\"Enter the class of which present =\"))\n",
    "percentage=attandance/total_class*100\n",
    "if percentage >=75:\n",
    "    print(\"You are Eligeble\")\n",
    "else:\n",
    "    print(\"Not eligible\")"
   ]
  },
  {
   "cell_type": "code",
   "execution_count": null,
   "metadata": {},
   "outputs": [],
   "source": [
    "name=(input(\"Enter Student Name =\"))\n",
    "id=int(input(\"Enter Student ID\"))\n",
    "marks=int(input(\"Enter Your FSC Marks\"))\n",
    "percentage=marks*100/1100\n",
    "if percentage >= 75:\n",
    "    print('Your are Eligible For Computer Science')\n",
    "elif percentage<75:\n",
    "    print(\"You are not eligible\")"
   ]
  },
  {
   "cell_type": "code",
   "execution_count": null,
   "metadata": {},
   "outputs": [],
   "source": [
    "length=int(input(\"Enter The Length = \"))\n",
    "breadth_of_rectangle=int(input(\"Enter the breadth = \"))\n",
    "if length==breadth_of_rectangle:\n",
    "    print(\"This is a Square\")\n",
    "else:\n",
    "    print(\"Not a square\")\n"
   ]
  },
  {
   "cell_type": "code",
   "execution_count": null,
   "metadata": {},
   "outputs": [],
   "source": [
    "valu1=int(input(\"Enter the First Value = \"))\n",
    "valu2=int(input(\"Enter the Second Value = \"))\n",
    "if valu1>valu2:\n",
    "    print(\"This is Greater\")\n",
    "elif valu1>=valu2:\n",
    "    print(\"This is a Equal\")\n",
    "else:\n",
    "    print(\"Less Than\")\n"
   ]
  },
  {
   "cell_type": "code",
   "execution_count": null,
   "metadata": {},
   "outputs": [],
   "source": [
    "meat=1100\n",
    "tomato=1200\n",
    "onion=3020\n",
    "banana=2200\n",
    "quantity=int(input(\"Enter the Quantity of meat = \"))\n",
    "quantity=int(input(\"Enter the Quantity of tomato = \"))\n",
    "quantity=int(input(\"Enter the Quantity of onion = \"))\n",
    "quantity=int(input(\"Enter the Quantity of banana = \"))\n"
   ]
  },
  {
   "cell_type": "markdown",
   "metadata": {},
   "source": [
    "meat=1100\n",
    "tomato=1200\n",
    "onion=3020\n",
    "banana=2200\n",
    "qty_meat=int(input(\"Enter the Quantity of meat = \"))\n",
    "qty_tomato=int(input(\"Enter the Quantity of tomato = \"))\n",
    "qty_onion=int(input(\"Enter the Quantity of onion = \"))\n",
    "qty_banana=int(input(\"Enter the Quantity of banana = \"))\n",
    "total_cost=qty_meat+qty_tomato+qty_banana+qty_onion\n",
    "print(\"Total Cost\",total_cost)\n",
    "if total_cost>1000:\n",
    "    dis_price =total_cost - (total_cost/100)*5\n",
    "    print(\"Discount give is \",(total_cost/100)*5)\n",
    "    print(\"Discount price is\", dis_price)\n",
    "    \n",
    "\n"
   ]
  },
  {
   "cell_type": "code",
   "execution_count": null,
   "metadata": {},
   "outputs": [],
   "source": []
  },
  {
   "cell_type": "code",
   "execution_count": null,
   "metadata": {},
   "outputs": [],
   "source": [
    "meat=1100\n",
    "tomato=1200\n",
    "onion=3020\n",
    "banana=2200\n",
    "qty_meat=int(input(\"Enter the Quantity of meat = \"))\n",
    "qty_tomato=int(input(\"Enter the Quantity of tomato = \"))\n",
    "qty_onion=int(input(\"Enter the Quantity of onion = \"))\n",
    "qty_banana=int(input(\"Enter the Quantity of banana = \"))\n",
    "total_cost=(qty_meat*meat)+(qty_tomato*tomato)+(qty_banana*banana)+(qty_onion*onion)\n",
    "print(\"Total Cost\",total_cost)\n",
    "if total_cost>1000:\n",
    "    dis_price =total_cost - (total_cost/100)*5\n",
    "    print(\"Discount give is \",(total_cost/100)*5)\n",
    "    print(\"Discount price is\", dis_price)"
   ]
  },
  {
   "cell_type": "code",
   "execution_count": null,
   "metadata": {},
   "outputs": [],
   "source": [
    "obt_marks=int(input(\"Enter Your Obatinad Marks = \"))\n",
    "total_Marks=int(input(\"Enter Your Total Marks = \"))\n",
    "percentage=obt_marks*100/total_Marks\n",
    "print(\"Percentage is  =\", percentage)\n",
    "#if percentage <=25:\n",
    " #   print(\"F\")\n",
    "if percentage <=45:\n",
    "    print(\"E\")\n",
    "elif percentage <=50:\n",
    "    print(\"D\")\n",
    "elif percentage <=60:\n",
    "    print(\"C\")\n",
    "elif percentage <=80:\n",
    "    print(\"B\")\n",
    "elif percentage <90:\n",
    "    print(\"A\")\n",
    "else:\n",
    "    print(\"F\")\n"
   ]
  },
  {
   "cell_type": "code",
   "execution_count": null,
   "metadata": {},
   "outputs": [],
   "source": [
    "Man1=int(input(\"Enter Man 1 Age\"))\n",
    "Man2=int(input(\"Enter Man 2 age\"))\n",
    "Man3=int(input(\"Enter Man 3 age\"))\n",
    "oldest=max(Man1,Man2,Man3)\n",
    "youngest=min(Man1,Man2,Man3)\n",
    "print(\"youngest Man\", youngest)\n",
    "print(\"oldest Man\",oldest)"
   ]
  },
  {
   "cell_type": "code",
   "execution_count": null,
   "metadata": {},
   "outputs": [],
   "source": [
    "num=int(input(\"Enter Your Absalute Valu\"))\n",
    "if num <0:\n",
    "    num=num*-1\n",
    "    print(\"Absalute is \", num)\n",
    "else:\n",
    "    print(\"Absalute is \", num)"
   ]
  },
  {
   "cell_type": "code",
   "execution_count": null,
   "metadata": {},
   "outputs": [],
   "source": [
    "attandance=int(input(\"Enter the class of attandance \"))\n",
    "total_class=int(input(\"Enter The Total Class \"))\n",
    "per=attandance/total_class*100\n",
    "print(per)\n",
    "if per <=75:\n",
    "    print(\"You are Allow To exam\")\n",
    "else:\n",
    "    print(\"You are Not Allow To exam\")"
   ]
  },
  {
   "cell_type": "code",
   "execution_count": null,
   "metadata": {},
   "outputs": [],
   "source": [
    "day = input('Enter the day of the week: ').capitalize()\n",
    "match day:\n",
    "    case \"Saturday\" | \"Sunday\":\n",
    "        print(f\"{day} is a weekend.\")\n",
    "    case \"Monday\" | \"Tuesday\" | \"Wednesday\" | \"Thursday\" | \"Friday\":\n",
    "        print(f\"{day} is a weekday.\")\n",
    "    case _:\n",
    "        print(\"That's not a valid day of the week.\")\n"
   ]
  },
  {
   "cell_type": "code",
   "execution_count": null,
   "metadata": {},
   "outputs": [],
   "source": [
    "animal=\"Eagle\"\n",
    "match animal:\n",
    "    case \"Eagle\" | \"Parrot\":\n",
    "    print ('Birth')\n",
    "    case \"Lion\" | \"Tiger\":\n",
    "        print(\"Mammal\")\n",
    "    case \"Python\" | \"Crocodile\":\n",
    "        print(\"Reptile\")\n",
    "    case _:\n",
    "        print(\"Unknown Clas\")"
   ]
  },
  {
   "cell_type": "code",
   "execution_count": 1,
   "metadata": {},
   "outputs": [
    {
     "name": "stdin",
     "output_type": "stream",
     "text": [
      "Enter the first Number =  12\n",
      "Enter the second Number =  34\n",
      "Enter the Operator, +,-,*,/ =  -\n"
     ]
    },
    {
     "name": "stdout",
     "output_type": "stream",
     "text": [
      "-22.0\n"
     ]
    }
   ],
   "source": [
    "num1=float(input(\"Enter the first Number = \"))\n",
    "num2=float(input(\"Enter the second Number = \"))\n",
    "operator=input(\"Enter the Operator, +,-,*,/ = \")\n",
    "match operator:\n",
    "    case \"+\":\n",
    "        print(num1 + num2)\n",
    "    case \"-\":\n",
    "        print(num1 - num2)\n",
    "    case \"*\":\n",
    "        print(num1 * num2)\n",
    "    case \"/\":\n",
    "        print(num1 / num2)\n",
    "    case _:\n",
    "        print(\"Enter Valid Operator\")\n",
    "        "
   ]
  },
  {
   "cell_type": "code",
   "execution_count": null,
   "metadata": {},
   "outputs": [],
   "source": [
    "char=input(\"Enter the Character : \").capitalize()\n",
    "\n",
    "match char:\n",
    "    case \"A,\":\n",
    "        print(\"This is a Vowel\")\n"
   ]
  },
  {
   "cell_type": "code",
   "execution_count": 9,
   "metadata": {},
   "outputs": [
    {
     "name": "stdout",
     "output_type": "stream",
     "text": [
      "Enter your name: syed abdullah shah\n",
      "Number of vowels: 5\n",
      "Number of consonants: 11\n"
     ]
    }
   ],
   "source": [
    "name = input(\"Enter your name: \")\n",
    "vowels = 'aeiouAEIOU'\n",
    "consonants = 'bcdfghjklmnpqrstvwxyzBCDFGHJKLMNPQRSTVWXYZ'\n",
    "\n",
    "vowel_count = sum(1 for char in name if char in vowels)\n",
    "consonant_count = sum(1 for char in name if char in consonants)\n",
    "\n",
    "print(f\"Number of vowels: {vowel_count}\")\n",
    "print(f\"Number of consonants: {consonant_count}\")"
   ]
  },
  {
   "cell_type": "code",
   "execution_count": 13,
   "metadata": {},
   "outputs": [
    {
     "name": "stdout",
     "output_type": "stream",
     "text": [
      "10 x 1 = 10\n",
      "10 x 2 = 20\n",
      "10 x 3 = 30\n",
      "10 x 4 = 40\n",
      "10 x 5 = 50\n",
      "10 x 6 = 60\n",
      "10 x 7 = 70\n",
      "10 x 8 = 80\n",
      "10 x 9 = 90\n"
     ]
    }
   ],
   "source": [
    "num=10\n",
    "for i in range(1 ,10):\n",
    "    print (num,\"x\",i,\"=\",num*i)"
   ]
  }
 ],
 "metadata": {
  "kernelspec": {
   "display_name": "Python 3 (ipykernel)",
   "language": "python",
   "name": "python3"
  },
  "language_info": {
   "codemirror_mode": {
    "name": "ipython",
    "version": 3
   },
   "file_extension": ".py",
   "mimetype": "text/x-python",
   "name": "python",
   "nbconvert_exporter": "python",
   "pygments_lexer": "ipython3",
   "version": "3.11.7"
  }
 },
 "nbformat": 4,
 "nbformat_minor": 4
}
