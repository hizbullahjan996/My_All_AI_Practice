{
 "cells": [
  {
   "cell_type": "raw",
   "id": "0b281029-5afc-4453-8653-2dc5dc346dbf",
   "metadata": {},
   "source": [
    "import openpyxl\n",
    "\n",
    "dataframe = openpyxl.load_wordbook(\"pk.xlsx\")\n",
    "datafram1 = datafram.active\n",
    "\n",
    "for row in range(0, dataframe1.max_row):\n",
    "    for col in dataframe1.iter_cols(1,dataframe1.max_column):\n",
    "        print(col[row].value)"
   ]
  }
 ],
 "metadata": {
  "kernelspec": {
   "display_name": "Python 3 (ipykernel)",
   "language": "python",
   "name": "python3"
  },
  "language_info": {
   "codemirror_mode": {
    "name": "ipython",
    "version": 3
   },
   "file_extension": ".py",
   "mimetype": "text/x-python",
   "name": "python",
   "nbconvert_exporter": "python",
   "pygments_lexer": "ipython3",
   "version": "3.11.7"
  }
 },
 "nbformat": 4,
 "nbformat_minor": 5
}
