{
 "cells": [
  {
   "cell_type": "code",
   "execution_count": 2,
   "id": "abcab477-1703-493f-805f-b31316ff1788",
   "metadata": {},
   "outputs": [
    {
     "data": {
      "text/plain": [
       "(   s/no  age  sex  chest pain type  resting bps  cholesterol  \\\n",
       " 0     0   40    1                2          140          289   \n",
       " 1     1   49    0                3          160          180   \n",
       " 2     2   37    1                2          130          283   \n",
       " 3     3   48    0                4          138          214   \n",
       " 4     4   54    1                3          150          195   \n",
       " \n",
       "    fasting blood sugar  resting ecg  max heart rate  exercise angina  oldpeak  \\\n",
       " 0                    0            0             172                0      0.0   \n",
       " 1                    0            0             156                0      1.0   \n",
       " 2                    0            1              98                0      0.0   \n",
       " 3                    0            0             108                1      1.5   \n",
       " 4                    0            0             122                0      0.0   \n",
       " \n",
       "    ST slope target  \n",
       " 0         1   zreo  \n",
       " 1         2    one  \n",
       " 2         1   zreo  \n",
       " 3         2    one  \n",
       " 4         1   zreo  ,\n",
       " Index(['s/no', 'age', 'sex', 'chest pain type', 'resting bps', 'cholesterol',\n",
       "        'fasting blood sugar', 'resting ecg', 'max heart rate',\n",
       "        'exercise angina', 'oldpeak', 'ST slope', 'target'],\n",
       "       dtype='object'))"
      ]
     },
     "execution_count": 2,
     "metadata": {},
     "output_type": "execute_result"
    }
   ],
   "source": [
    "import pandas as pd\n",
    "\n",
    "# Load the dataset\n",
    "file_path = 'Dataset Heart Disease.csv'\n",
    "data = pd.read_csv(file_path)\n",
    "\n",
    "# Display the first few rows of the dataset and its columns to understand its structure\n",
    "data.head(), data.columns\n"
   ]
  },
  {
   "cell_type": "code",
   "execution_count": 1,
   "id": "e804169c-3f6f-439c-9b65-30ee6abed9e4",
   "metadata": {},
   "outputs": [
    {
     "name": "stdout",
     "output_type": "stream",
     "text": [
      "   s/no  age  sex  chest pain type  resting bps  cholesterol  \\\n",
      "0     0   40    1                2          140          289   \n",
      "1     1   49    0                3          160          180   \n",
      "2     2   37    1                2          130          283   \n",
      "3     3   48    0                4          138          214   \n",
      "4     4   54    1                3          150          195   \n",
      "\n",
      "   fasting blood sugar  resting ecg  max heart rate  exercise angina  oldpeak  \\\n",
      "0                    0            0             172                0      0.0   \n",
      "1                    0            0             156                0      1.0   \n",
      "2                    0            1              98                0      0.0   \n",
      "3                    0            0             108                1      1.5   \n",
      "4                    0            0             122                0      0.0   \n",
      "\n",
      "   ST slope target  \n",
      "0         1   zreo  \n",
      "1         2    one  \n",
      "2         1   zreo  \n",
      "3         2    one  \n",
      "4         1   zreo  \n",
      "Index(['s/no', 'age', 'sex', 'chest pain type', 'resting bps', 'cholesterol',\n",
      "       'fasting blood sugar', 'resting ecg', 'max heart rate',\n",
      "       'exercise angina', 'oldpeak', 'ST slope', 'target'],\n",
      "      dtype='object')\n",
      "The correlation coefficient between age and cholesterol is 0.10\n"
     ]
    }
   ],
   "source": [
    "import pandas as pd\n",
    "\n",
    "# Load the dataset\n",
    "file_path = 'Dataset Heart Disease.csv'\n",
    "data = pd.read_csv(file_path)\n",
    "\n",
    "# Display the first few rows of the dataset and its columns to understand its structure\n",
    "print(data.head())\n",
    "print(data.columns)\n",
    "\n",
    "# Calculate the correlation coefficient between two variables\n",
    "# Replace 'variable1' and 'variable2' with the actual column names you want to analyze\n",
    "variable1 = 'age'\n",
    "variable2 = 'cholesterol'\n",
    "correlation_coefficient = data[[variable1, variable2]].corr().iloc[0, 1]\n",
    "\n",
    "# Present the correlation coefficient\n",
    "print(f\"The correlation coefficient between {variable1} and {variable2} is {correlation_coefficient:.2f}\")\n"
   ]
  },
  {
   "cell_type": "code",
   "execution_count": null,
   "id": "160e4d7a-dcc8-437c-b24a-ca88edc60ae1",
   "metadata": {},
   "outputs": [],
   "source": []
  }
 ],
 "metadata": {
  "kernelspec": {
   "display_name": "Python 3 (ipykernel)",
   "language": "python",
   "name": "python3"
  },
  "language_info": {
   "codemirror_mode": {
    "name": "ipython",
    "version": 3
   },
   "file_extension": ".py",
   "mimetype": "text/x-python",
   "name": "python",
   "nbconvert_exporter": "python",
   "pygments_lexer": "ipython3",
   "version": "3.11.7"
  }
 },
 "nbformat": 4,
 "nbformat_minor": 5
}
