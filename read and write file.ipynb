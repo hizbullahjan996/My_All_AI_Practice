{
 "cells": [
  {
   "cell_type": "code",
   "execution_count": 25,
   "id": "cb3ace3b-b1e0-4d54-98a9-324a21fda91d",
   "metadata": {},
   "outputs": [
    {
     "name": "stdout",
     "output_type": "stream",
     "text": [
      "Output of read funtion is \n",
      "Hello \n",
      "This is Delhi \n",
      "This is Paris \n",
      "This is london \n",
      "Today \n",
      "\n",
      "\n",
      "Output of Readline funtion is \n",
      "Hello \n",
      "\n",
      "\n",
      "Output of read (9) funtion is \n",
      "Hello \n",
      "Th\n",
      "\n",
      "Output of Readlinr (9) function is \n",
      "Hello \n",
      "\n",
      "Output of reading funtion is \n",
      "Hello \n",
      "\n",
      "\n"
     ]
    }
   ],
   "source": [
    "file1 =open(\"myfile.txt\",\"w\")\n",
    "L= [\"This is Delhi \\n\", \"This is Paris \\n\", \"This is london \\n\"]\n",
    "\n",
    "file1.write(\"Hello \\n\")\n",
    "file1.writelines(L)\n",
    "file1.close()\n",
    "\n",
    "file1= open(\"myfile.txt\" ,\"a\")\n",
    "file1.write(\"Today \\n\")\n",
    "file1.close()\n",
    "\n",
    "file1 = open(\"myfile.txt\", \"r+\")\n",
    "\n",
    "print(\"Output of read funtion is \")\n",
    "print(file1.read())\n",
    "print()\n",
    "\n",
    "file1.seek(0)\n",
    "\n",
    "print(\"Output of Readline funtion is \")\n",
    "print(file1.readline())\n",
    "print()\n",
    "\n",
    "file1.seek(0)\n",
    "\n",
    "print(\"Output of read (9) funtion is \")\n",
    "print(file1.read(9))\n",
    "print()\n",
    "\n",
    "file1.seek(0)\n",
    "\n",
    "print(\"Output of Readlinr (9) function is \")\n",
    "print(file1.readline(9))\n",
    "\n",
    "file1.seek(0)\n",
    "print(\"Output of reading funtion is \")\n",
    "print(file1.readline())\n",
    "print()\n",
    "file1.close()\n",
    "            "
   ]
  },
  {
   "cell_type": "code",
   "execution_count": 21,
   "id": "5bdcdcea-b1ab-4a9c-8eca-f000a99c131d",
   "metadata": {},
   "outputs": [
    {
     "name": "stdout",
     "output_type": "stream",
     "text": [
      "A rocket engine produces thrust by reaction to exhaust expelled at high speed. Rocket engines work entirely from propellant carried within the vehicle; therefore a rocket can fly in the vacuum of space. Rockets work more efficiently in a vacuum and incur a loss of thrust due to the opposing pressure of the atmosphere. \n",
      "\n",
      "HizbUllah \n",
      "A rocket engine produces thrust by reaction to exhaust expelled at high speed. Rocket engines work entirely from propellant carried within the vehicle; therefore a rocket can fly in the vacuum of space. Rockets work more efficiently in a vacuum and incur a loss of thrust due to the opposing pressure of the atmosphere. \n",
      "\n",
      "HizbUllah \n",
      "A rocket engine produces\n"
     ]
    }
   ],
   "source": [
    "file = open(\"HizbUllah.txt\", \"w\")\n",
    "p = [\"A rocket engine produces thrust by reaction to exhaust expelled at high speed. Rocket engines work entirely from propellant carried within the vehicle; therefore a rocket can fly in the vacuum of space. Rockets work more efficiently in a vacuum and incur a loss of thrust due to the opposing pressure of the atmosphere. \\n\"]\n",
    "file.write(\"HizbUllah \\n\")\n",
    "\n",
    "for line in p[:2]:\n",
    "    print(line)\n",
    "\n",
    "\n",
    "file = open(\"HizbUllah.txt\", \"w\")\n",
    "p = [\n",
    "    \"A rocket engine produces thrust by reaction to exhaust expelled at high speed. Rocket engines work entirely from propellant carried within the vehicle; therefore a rocket can fly in the vacuum of space. Rockets work more efficiently in a vacuum and incur a loss of thrust due to the opposing pressure of the atmosphere. \\n\"\n",
    "]\n",
    "file.write(\"HizbUllah \\n\")\n",
    "file.writelines(p)\n",
    "file.close()\n",
    "\n",
    "file = open(\"HizbUllah.txt\", \"r\")\n",
    "paragraph = file.read()\n",
    "file.close()\n",
    "\n",
    "print(paragraph)\n",
    "\n",
    "file = open(\"HizbUllah.txt\", \"w\")\n",
    "p = [\n",
    "    \"A rocket engine produces thrust by reaction to exhaust expelled at high speed. Rocket engines work entirely from propellant carried within the vehicle; therefore a rocket can fly in the vacuum of space. Rockets work more efficiently in a vacuum and incur a loss of thrust due to the opposing pressure of the atmosphere. \\n\"\n",
    "]\n",
    "file.write(\"HizbUllah \\n\")\n",
    "file.writelines(p)\n",
    "file.close()\n",
    "\n",
    "file = open(\"HizbUllah.txt\", \"r\")\n",
    "first_35_chars = file.read(35)\n",
    "file.close()\n",
    "\n",
    "print(first_35_chars)\n"
   ]
  },
  {
   "cell_type": "code",
   "execution_count": null,
   "id": "beef63fc-38e1-4105-b42b-2cd56ef9d055",
   "metadata": {},
   "outputs": [],
   "source": []
  }
 ],
 "metadata": {
  "kernelspec": {
   "display_name": "Python 3 (ipykernel)",
   "language": "python",
   "name": "python3"
  },
  "language_info": {
   "codemirror_mode": {
    "name": "ipython",
    "version": 3
   },
   "file_extension": ".py",
   "mimetype": "text/x-python",
   "name": "python",
   "nbconvert_exporter": "python",
   "pygments_lexer": "ipython3",
   "version": "3.11.7"
  }
 },
 "nbformat": 4,
 "nbformat_minor": 5
}
