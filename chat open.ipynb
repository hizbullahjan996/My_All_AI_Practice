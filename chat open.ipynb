{
 "cells": [
  {
   "cell_type": "code",
   "execution_count": 62,
   "id": "ca9d275a-d953-48fa-bb30-cc6ea33dc212",
   "metadata": {},
   "outputs": [
    {
     "name": "stdout",
     "output_type": "stream",
     "text": [
      "     Age  Gender       Job Education Martial Status  \\\n",
      "0  20-25    Male  Student      BS CS         Single   \n",
      "1  20-25  Female  Student     BS Bio         Single   \n",
      "2  30-40    Male       NaN        BS       Married    \n",
      "3  25-30    Male  Student         BS         Single   \n",
      "\n",
      "                                             Messege  \n",
      "0  Elaka,zama da kar  d sa okra,aw kna,bas preda ...  \n",
      "1  Aoa bhai,Bhai pesi send kol de taso ba send ka...  \n",
      "2  Saylani Mass IT Training Program Peshawar,Get ...  \n",
      "3  Kindly ensure you bring the following items,Ad...  \n"
     ]
    }
   ],
   "source": [
    "import pandas as pd\n",
    "import numpy as np\n",
    "file=pd.read_csv(\"chat.csv\")\n",
    "print(file)\n",
    "\n",
    "#col = [\"Job\",\"Gender\"]\n",
    "#file.drop(columns=col, inplace=True, axis=1)\n",
    "#print(file)"
   ]
  },
  {
   "cell_type": "code",
   "execution_count": 63,
   "id": "f07d1782-306d-4515-b69d-258c109abbb4",
   "metadata": {},
   "outputs": [
    {
     "data": {
      "text/html": [
       "<div>\n",
       "<style scoped>\n",
       "    .dataframe tbody tr th:only-of-type {\n",
       "        vertical-align: middle;\n",
       "    }\n",
       "\n",
       "    .dataframe tbody tr th {\n",
       "        vertical-align: top;\n",
       "    }\n",
       "\n",
       "    .dataframe thead th {\n",
       "        text-align: right;\n",
       "    }\n",
       "</style>\n",
       "<table border=\"1\" class=\"dataframe\">\n",
       "  <thead>\n",
       "    <tr style=\"text-align: right;\">\n",
       "      <th></th>\n",
       "      <th>Age</th>\n",
       "      <th>Gender</th>\n",
       "      <th>Job</th>\n",
       "      <th>Education</th>\n",
       "      <th>Martial Status</th>\n",
       "      <th>Messege</th>\n",
       "    </tr>\n",
       "  </thead>\n",
       "  <tbody>\n",
       "    <tr>\n",
       "      <th>0</th>\n",
       "      <td>20-25</td>\n",
       "      <td>Male</td>\n",
       "      <td>Student</td>\n",
       "      <td>BS CS</td>\n",
       "      <td>Single</td>\n",
       "      <td>Elaka,zama da kar  d sa okra,aw kna,bas preda ...</td>\n",
       "    </tr>\n",
       "    <tr>\n",
       "      <th>1</th>\n",
       "      <td>20-25</td>\n",
       "      <td>Female</td>\n",
       "      <td>Student</td>\n",
       "      <td>BS Bio</td>\n",
       "      <td>Single</td>\n",
       "      <td>Aoa bhai,Bhai pesi send kol de taso ba send ka...</td>\n",
       "    </tr>\n",
       "    <tr>\n",
       "      <th>2</th>\n",
       "      <td>30-40</td>\n",
       "      <td>Male</td>\n",
       "      <td>NaN</td>\n",
       "      <td>BS</td>\n",
       "      <td>Married</td>\n",
       "      <td>Saylani Mass IT Training Program Peshawar,Get ...</td>\n",
       "    </tr>\n",
       "    <tr>\n",
       "      <th>3</th>\n",
       "      <td>25-30</td>\n",
       "      <td>Male</td>\n",
       "      <td>Student</td>\n",
       "      <td>BS</td>\n",
       "      <td>Single</td>\n",
       "      <td>Kindly ensure you bring the following items,Ad...</td>\n",
       "    </tr>\n",
       "  </tbody>\n",
       "</table>\n",
       "</div>"
      ],
      "text/plain": [
       "     Age  Gender       Job Education Martial Status  \\\n",
       "0  20-25    Male  Student      BS CS         Single   \n",
       "1  20-25  Female  Student     BS Bio         Single   \n",
       "2  30-40    Male       NaN        BS       Married    \n",
       "3  25-30    Male  Student         BS         Single   \n",
       "\n",
       "                                             Messege  \n",
       "0  Elaka,zama da kar  d sa okra,aw kna,bas preda ...  \n",
       "1  Aoa bhai,Bhai pesi send kol de taso ba send ka...  \n",
       "2  Saylani Mass IT Training Program Peshawar,Get ...  \n",
       "3  Kindly ensure you bring the following items,Ad...  "
      ]
     },
     "execution_count": 63,
     "metadata": {},
     "output_type": "execute_result"
    }
   ],
   "source": [
    "file.head(5)"
   ]
  },
  {
   "cell_type": "code",
   "execution_count": 64,
   "id": "ad25c07b-608f-4d1e-83bb-69dd616d2b71",
   "metadata": {},
   "outputs": [
    {
     "data": {
      "text/html": [
       "<div>\n",
       "<style scoped>\n",
       "    .dataframe tbody tr th:only-of-type {\n",
       "        vertical-align: middle;\n",
       "    }\n",
       "\n",
       "    .dataframe tbody tr th {\n",
       "        vertical-align: top;\n",
       "    }\n",
       "\n",
       "    .dataframe thead th {\n",
       "        text-align: right;\n",
       "    }\n",
       "</style>\n",
       "<table border=\"1\" class=\"dataframe\">\n",
       "  <thead>\n",
       "    <tr style=\"text-align: right;\">\n",
       "      <th></th>\n",
       "      <th>Age</th>\n",
       "      <th>Gender</th>\n",
       "      <th>Job</th>\n",
       "      <th>Education</th>\n",
       "      <th>Martial Status</th>\n",
       "      <th>Messege</th>\n",
       "    </tr>\n",
       "  </thead>\n",
       "  <tbody>\n",
       "    <tr>\n",
       "      <th>0</th>\n",
       "      <td>20-25</td>\n",
       "      <td>Male</td>\n",
       "      <td>Student</td>\n",
       "      <td>BS CS</td>\n",
       "      <td>Single</td>\n",
       "      <td>Elaka,zama da kar  d sa okra,aw kna,bas preda ...</td>\n",
       "    </tr>\n",
       "    <tr>\n",
       "      <th>1</th>\n",
       "      <td>20-25</td>\n",
       "      <td>Female</td>\n",
       "      <td>Student</td>\n",
       "      <td>BS Bio</td>\n",
       "      <td>Single</td>\n",
       "      <td>Aoa bhai,Bhai pesi send kol de taso ba send ka...</td>\n",
       "    </tr>\n",
       "    <tr>\n",
       "      <th>2</th>\n",
       "      <td>30-40</td>\n",
       "      <td>Male</td>\n",
       "      <td>NaN</td>\n",
       "      <td>BS</td>\n",
       "      <td>Married</td>\n",
       "      <td>Saylani Mass IT Training Program Peshawar,Get ...</td>\n",
       "    </tr>\n",
       "    <tr>\n",
       "      <th>3</th>\n",
       "      <td>25-30</td>\n",
       "      <td>Male</td>\n",
       "      <td>Student</td>\n",
       "      <td>BS</td>\n",
       "      <td>Single</td>\n",
       "      <td>Kindly ensure you bring the following items,Ad...</td>\n",
       "    </tr>\n",
       "  </tbody>\n",
       "</table>\n",
       "</div>"
      ],
      "text/plain": [
       "     Age  Gender       Job Education Martial Status  \\\n",
       "0  20-25    Male  Student      BS CS         Single   \n",
       "1  20-25  Female  Student     BS Bio         Single   \n",
       "2  30-40    Male       NaN        BS       Married    \n",
       "3  25-30    Male  Student         BS         Single   \n",
       "\n",
       "                                             Messege  \n",
       "0  Elaka,zama da kar  d sa okra,aw kna,bas preda ...  \n",
       "1  Aoa bhai,Bhai pesi send kol de taso ba send ka...  \n",
       "2  Saylani Mass IT Training Program Peshawar,Get ...  \n",
       "3  Kindly ensure you bring the following items,Ad...  "
      ]
     },
     "execution_count": 64,
     "metadata": {},
     "output_type": "execute_result"
    }
   ],
   "source": [
    "file.tail()"
   ]
  },
  {
   "cell_type": "code",
   "execution_count": 65,
   "id": "04347f49-6333-4553-894c-d7ab4ad8d918",
   "metadata": {},
   "outputs": [
    {
     "name": "stdout",
     "output_type": "stream",
     "text": [
      "<class 'pandas.core.frame.DataFrame'>\n",
      "RangeIndex: 4 entries, 0 to 3\n",
      "Data columns (total 6 columns):\n",
      " #   Column          Non-Null Count  Dtype \n",
      "---  ------          --------------  ----- \n",
      " 0   Age             4 non-null      object\n",
      " 1   Gender          4 non-null      object\n",
      " 2   Job             3 non-null      object\n",
      " 3   Education       4 non-null      object\n",
      " 4   Martial Status  4 non-null      object\n",
      " 5   Messege         4 non-null      object\n",
      "dtypes: object(6)\n",
      "memory usage: 324.0+ bytes\n"
     ]
    }
   ],
   "source": [
    "file.info()"
   ]
  },
  {
   "cell_type": "code",
   "execution_count": 66,
   "id": "5412ce5b-3130-4c85-938d-10cfc55c98fa",
   "metadata": {},
   "outputs": [
    {
     "data": {
      "text/html": [
       "<div>\n",
       "<style scoped>\n",
       "    .dataframe tbody tr th:only-of-type {\n",
       "        vertical-align: middle;\n",
       "    }\n",
       "\n",
       "    .dataframe tbody tr th {\n",
       "        vertical-align: top;\n",
       "    }\n",
       "\n",
       "    .dataframe thead th {\n",
       "        text-align: right;\n",
       "    }\n",
       "</style>\n",
       "<table border=\"1\" class=\"dataframe\">\n",
       "  <thead>\n",
       "    <tr style=\"text-align: right;\">\n",
       "      <th></th>\n",
       "      <th>Age</th>\n",
       "      <th>Gender</th>\n",
       "      <th>Job</th>\n",
       "      <th>Education</th>\n",
       "      <th>Martial Status</th>\n",
       "      <th>Messege</th>\n",
       "    </tr>\n",
       "  </thead>\n",
       "  <tbody>\n",
       "    <tr>\n",
       "      <th>count</th>\n",
       "      <td>4</td>\n",
       "      <td>4</td>\n",
       "      <td>3</td>\n",
       "      <td>4</td>\n",
       "      <td>4</td>\n",
       "      <td>4</td>\n",
       "    </tr>\n",
       "    <tr>\n",
       "      <th>unique</th>\n",
       "      <td>3</td>\n",
       "      <td>2</td>\n",
       "      <td>1</td>\n",
       "      <td>3</td>\n",
       "      <td>2</td>\n",
       "      <td>4</td>\n",
       "    </tr>\n",
       "    <tr>\n",
       "      <th>top</th>\n",
       "      <td>20-25</td>\n",
       "      <td>Male</td>\n",
       "      <td>Student</td>\n",
       "      <td>BS</td>\n",
       "      <td>Single</td>\n",
       "      <td>Elaka,zama da kar  d sa okra,aw kna,bas preda ...</td>\n",
       "    </tr>\n",
       "    <tr>\n",
       "      <th>freq</th>\n",
       "      <td>2</td>\n",
       "      <td>3</td>\n",
       "      <td>3</td>\n",
       "      <td>2</td>\n",
       "      <td>3</td>\n",
       "      <td>1</td>\n",
       "    </tr>\n",
       "  </tbody>\n",
       "</table>\n",
       "</div>"
      ],
      "text/plain": [
       "          Age Gender       Job Education Martial Status  \\\n",
       "count       4      4         3         4              4   \n",
       "unique      3      2         1         3              2   \n",
       "top     20-25   Male  Student         BS         Single   \n",
       "freq        2      3         3         2              3   \n",
       "\n",
       "                                                  Messege  \n",
       "count                                                   4  \n",
       "unique                                                  4  \n",
       "top     Elaka,zama da kar  d sa okra,aw kna,bas preda ...  \n",
       "freq                                                    1  "
      ]
     },
     "execution_count": 66,
     "metadata": {},
     "output_type": "execute_result"
    }
   ],
   "source": [
    "file.describe()"
   ]
  },
  {
   "cell_type": "code",
   "execution_count": 67,
   "id": "d8f4a483-9dc6-4807-aa42-0e67dc882a75",
   "metadata": {},
   "outputs": [],
   "source": [
    "\n",
    "#col = [\"Job\"]\n",
    "#file.drop(columns=col, inplace=True, axis=1)\n",
    "#print(file)\n",
    "\n",
    "\n",
    "#file.drop(colums=to_drop, inplace=true)"
   ]
  },
  {
   "cell_type": "code",
   "execution_count": 68,
   "id": "5a41d659-8783-42fc-98ef-b8c00e34a0ea",
   "metadata": {},
   "outputs": [
    {
     "data": {
      "text/plain": [
       "0    False\n",
       "1    False\n",
       "2     True\n",
       "3    False\n",
       "Name: Job, dtype: bool"
      ]
     },
     "execution_count": 68,
     "metadata": {},
     "output_type": "execute_result"
    }
   ],
   "source": [
    "file[\"Job\"].isnull()"
   ]
  },
  {
   "cell_type": "code",
   "execution_count": 73,
   "id": "0a16cf17-2dec-47a3-84ec-141ee67c479e",
   "metadata": {},
   "outputs": [
    {
     "data": {
      "text/plain": [
       "0    Student \n",
       "1    Student \n",
       "2         NaN\n",
       "3    Student \n",
       "Name: Job, dtype: object"
      ]
     },
     "execution_count": 73,
     "metadata": {},
     "output_type": "execute_result"
    }
   ],
   "source": [
    "file[\"Job\"].head(10)"
   ]
  },
  {
   "cell_type": "code",
   "execution_count": 74,
   "id": "08083ca6-e969-4d2f-b73b-bf1080c4c1da",
   "metadata": {},
   "outputs": [
    {
     "name": "stdout",
     "output_type": "stream",
     "text": [
      "     Age  Gender       Job Education Martial Status  \\\n",
      "0  20-25    Male  Student      BS CS         Single   \n",
      "1  20-25  Female  Student     BS Bio         Single   \n",
      "2  30-40    Male  Computer        BS       Married    \n",
      "3  25-30    Male  Student         BS         Single   \n",
      "\n",
      "                                             Messege  \n",
      "0  Elaka,zama da kar  d sa okra,aw kna,bas preda ...  \n",
      "1  Aoa bhai,Bhai pesi send kol de taso ba send ka...  \n",
      "2  Saylani Mass IT Training Program Peshawar,Get ...  \n",
      "3  Kindly ensure you bring the following items,Ad...  \n"
     ]
    }
   ],
   "source": [
    "file[\"Job\"].fillna(\"Computer\", inplace= True)\n",
    "print(file)"
   ]
  }
 ],
 "metadata": {
  "kernelspec": {
   "display_name": "Python 3 (ipykernel)",
   "language": "python",
   "name": "python3"
  },
  "language_info": {
   "codemirror_mode": {
    "name": "ipython",
    "version": 3
   },
   "file_extension": ".py",
   "mimetype": "text/x-python",
   "name": "python",
   "nbconvert_exporter": "python",
   "pygments_lexer": "ipython3",
   "version": "3.11.7"
  }
 },
 "nbformat": 4,
 "nbformat_minor": 5
}
