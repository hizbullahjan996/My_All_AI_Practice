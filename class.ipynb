{
 "cells": [
  {
   "cell_type": "code",
   "execution_count": 8,
   "id": "0e800bc1-fcd9-40f8-8ba1-7af13b5c7792",
   "metadata": {},
   "outputs": [
    {
     "name": "stdout",
     "output_type": "stream",
     "text": [
      "Hizb Ullah Jan\n",
      "19\n"
     ]
    }
   ],
   "source": [
    "class Person:\n",
    "    def __init__(j, Name, Age):\n",
    "        j.Name = Name\n",
    "        j.Age = Age\n",
    "p1 = Person(\"Hizb Ullah Jan\", 19)\n",
    "print(p1.Name)\n",
    "print(p1.Age)"
   ]
  },
  {
   "cell_type": "code",
   "execution_count": 25,
   "id": "0b313426-a1cf-4afc-ac37-ca886cfb884a",
   "metadata": {},
   "outputs": [
    {
     "name": "stdout",
     "output_type": "stream",
     "text": [
      "Hello my is  Hizb\n",
      "Hello my age is 35\n"
     ]
    }
   ],
   "source": [
    "class Person:\n",
    "    def __init__(j, Name, Age):\n",
    "        j.Name = Name\n",
    "        j.Age = Age\n",
    "    def myFunc(j):\n",
    "        print(\"Hello my is  \"  + j.Name)\n",
    "        print(\"Hello my age is \"  + j.Age)\n",
    "\n",
    "p1= Person(\"Hizb\", \"35\")\n",
    "\n",
    "p1.myFunc()"
   ]
  },
  {
   "cell_type": "code",
   "execution_count": 27,
   "id": "bcb38144-ec93-42f5-9256-2f2457eddeee",
   "metadata": {},
   "outputs": [
    {
     "name": "stdout",
     "output_type": "stream",
     "text": [
      "__name__\n",
      "__doc__\n",
      "__package__\n",
      "__loader__\n",
      "__spec__\n",
      "_array_reconstructor\n",
      "ArrayType\n",
      "array\n",
      "typecodes\n"
     ]
    }
   ],
   "source": [
    "import array \n",
    "for name in array.__dict__:\n",
    "    print(name)"
   ]
  },
  {
   "cell_type": "code",
   "execution_count": 35,
   "id": "487e7c22-9796-4193-8b90-85f4047c4c9b",
   "metadata": {},
   "outputs": [
    {
     "name": "stdout",
     "output_type": "stream",
     "text": [
      "__module__\n",
      "sub_sets\n",
      "subsetsRecur\n",
      "__dict__\n",
      "__weakref__\n",
      "__doc__\n"
     ]
    }
   ],
   "source": [
    "class py_solution:\n",
    "    def sub_sets(self,sset):\n",
    "        return self.subsetRecur([],sorted(sset))\n",
    "    def subsetsRecur(self,current, sset):\n",
    "        if sset:\n",
    "            return self.subsetsRecur(current,sset[1:])+ self.subsetsRecur(current + [sset[0]],seet[1:])\n",
    "        return[current]\n",
    "    for name in py_solution.__dict__:\n",
    "        print(name)\n",
    "    "
   ]
  },
  {
   "cell_type": "code",
   "execution_count": 34,
   "id": "d8e9debd-be24-4caa-b4ab-71fae1a73cd5",
   "metadata": {},
   "outputs": [
    {
     "name": "stdout",
     "output_type": "stream",
     "text": [
      "__module__\n",
      "sub_sets\n",
      "subsetsRecur\n",
      "__dict__\n",
      "__weakref__\n",
      "__doc__\n"
     ]
    }
   ],
   "source": [
    "class py_solution:\n",
    "    def sub_sets(self, sset):\n",
    "        return self.subsetsRecur([], sorted(sset))\n",
    "\n",
    "    def subsetsRecur(self, current, sset):\n",
    "        if sset:\n",
    "            return self.subsetsRecur(current, sset[1:]) + self.subsetsRecur(current + [sset[0]], sset[1:])\n",
    "        return [current]\n",
    "\n",
    "for name in py_solution.__dict__:\n",
    "    print(name)\n"
   ]
  },
  {
   "cell_type": "code",
   "execution_count": 9,
   "id": "e9761214-c64c-486c-962c-41821a4216fd",
   "metadata": {},
   "outputs": [
    {
     "name": "stdout",
     "output_type": "stream",
     "text": [
      "{'student_id': '14936', 'student_name': 'Hizb Ullah', 'class_name': 'CS', 'contact_no': '03139698274', 'obt_marks': '900', 'address': 'shah Alam'}\n"
     ]
    }
   ],
   "source": [
    "class student:\n",
    "    def __init__(self,student_id, student_name, class_name, contact_no, obt_marks,address):\n",
    "        self.student_id= student_id\n",
    "        self.student_name = student_name\n",
    "        self.class_name=class_name\n",
    "        self.class_name=class_name\n",
    "        self.contact_no = contact_no\n",
    "        self.obt_marks = obt_marks\n",
    "        self.address = address\n",
    "Student= student(\"14936\", \"Hizb Ullah\", \"CS\", \"03139698274\", \"900\", \"shah Alam\")\n",
    "print(Student.__dict__)"
   ]
  },
  {
   "cell_type": "code",
   "execution_count": 16,
   "id": "d65ddc88-ad85-4c56-b897-6f1296f74dda",
   "metadata": {},
   "outputs": [
    {
     "name": "stdout",
     "output_type": "stream",
     "text": [
      "{'max_speed': '160 to 165 kilometers per hour (km/h)', 'milege': '400'}\n"
     ]
    }
   ],
   "source": [
    "class vehicle:\n",
    "    def __init__(Honda, max_speed, milege):\n",
    "        Honda.max_speed=max_speed\n",
    "        Honda.milege=milege\n",
    "data= vehicle(\"160 to 165 kilometers per hour (km/h)\", \"400\")\n",
    "print(data.__dict__)    "
   ]
  },
  {
   "cell_type": "code",
   "execution_count": null,
   "id": "5fb57fd7-b8af-4cc5-a467-089ce7693927",
   "metadata": {},
   "outputs": [],
   "source": []
  }
 ],
 "metadata": {
  "kernelspec": {
   "display_name": "Python 3 (ipykernel)",
   "language": "python",
   "name": "python3"
  },
  "language_info": {
   "codemirror_mode": {
    "name": "ipython",
    "version": 3
   },
   "file_extension": ".py",
   "mimetype": "text/x-python",
   "name": "python",
   "nbconvert_exporter": "python",
   "pygments_lexer": "ipython3",
   "version": "3.11.7"
  }
 },
 "nbformat": 4,
 "nbformat_minor": 5
}
