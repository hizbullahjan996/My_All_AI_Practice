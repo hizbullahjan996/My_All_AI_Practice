{
 "cells": [
  {
   "cell_type": "code",
   "execution_count": null,
   "metadata": {},
   "outputs": [],
   "source": [
    "total_class=int(input(\"Enter Total No of Class =\"))\n",
    "attandance=int(input(\"Enter the class of which present =\"))\n",
    "percentage=attandance/total_class*100\n",
    "if percentage >=75:\n",
    "    print(\"You are Eligeble\")\n",
    "else:\n",
    "    print(\"Not eligible\")"
   ]
  },
  {
   "cell_type": "code",
   "execution_count": null,
   "metadata": {},
   "outputs": [],
   "source": [
    "name=(input(\"Enter Student Name =\"))\n",
    "id=int(input(\"Enter Student ID\"))\n",
    "marks=int(input(\"Enter Your FSC Marks\"))\n",
    "percentage=marks*100/1100\n",
    "if percentage >= 75:\n",
    "    print('Your are Eligible For Computer Science')\n",
    "elif percentage<75:\n",
    "    print(\"You are not eligible\")"
   ]
  },
  {
   "cell_type": "code",
   "execution_count": null,
   "metadata": {},
   "outputs": [],
   "source": [
    "length=int(input(\"Enter The Length = \"))\n",
    "breadth_of_rectangle=int(input(\"Enter the breadth = \"))\n",
    "if length==breadth_of_rectangle:\n",
    "    print(\"This is a Square\")\n",
    "else:\n",
    "    print(\"Not a square\")\n"
   ]
  },
  {
   "cell_type": "code",
   "execution_count": null,
   "metadata": {},
   "outputs": [],
   "source": [
    "valu1=int(input(\"Enter the First Value = \"))\n",
    "valu2=int(input(\"Enter the Second Value = \"))\n",
    "if valu1>valu2:\n",
    "    print(\"This is Greater\")\n",
    "elif valu1>=valu2:\n",
    "    print(\"This is a Equal\")\n",
    "else:\n",
    "    print(\"Less Than\")\n"
   ]
  },
  {
   "cell_type": "code",
   "execution_count": null,
   "metadata": {},
   "outputs": [],
   "source": [
    "meat=1100\n",
    "tomato=1200\n",
    "onion=3020\n",
    "banana=2200\n",
    "quantity=int(input(\"Enter the Quantity of meat = \"))\n",
    "quantity=int(input(\"Enter the Quantity of tomato = \"))\n",
    "quantity=int(input(\"Enter the Quantity of onion = \"))\n",
    "quantity=int(input(\"Enter the Quantity of banana = \"))\n"
   ]
  },
  {
   "cell_type": "markdown",
   "metadata": {},
   "source": [
    "meat=1100\n",
    "tomato=1200\n",
    "onion=3020\n",
    "banana=2200\n",
    "qty_meat=int(input(\"Enter the Quantity of meat = \"))\n",
    "qty_tomato=int(input(\"Enter the Quantity of tomato = \"))\n",
    "qty_onion=int(input(\"Enter the Quantity of onion = \"))\n",
    "qty_banana=int(input(\"Enter the Quantity of banana = \"))\n",
    "total_cost=qty_meat+qty_tomato+qty_banana+qty_onion\n",
    "print(\"Total Cost\",total_cost)\n",
    "if total_cost>1000:\n",
    "    dis_price =total_cost - (total_cost/100)*5\n",
    "    print(\"Discount give is \",(total_cost/100)*5)\n",
    "    print(\"Discount price is\", dis_price)\n",
    "    \n",
    "\n"
   ]
  },
  {
   "cell_type": "code",
   "execution_count": null,
   "metadata": {},
   "outputs": [],
   "source": []
  },
  {
   "cell_type": "code",
   "execution_count": null,
   "metadata": {},
   "outputs": [],
   "source": [
    "meat=1100\n",
    "tomato=1200\n",
    "onion=3020\n",
    "banana=2200\n",
    "qty_meat=int(input(\"Enter the Quantity of meat = \"))\n",
    "qty_tomato=int(input(\"Enter the Quantity of tomato = \"))\n",
    "qty_onion=int(input(\"Enter the Quantity of onion = \"))\n",
    "qty_banana=int(input(\"Enter the Quantity of banana = \"))\n",
    "total_cost=(qty_meat*meat)+(qty_tomato*tomato)+(qty_banana*banana)+(qty_onion*onion)\n",
    "print(\"Total Cost\",total_cost)\n",
    "if total_cost>1000:\n",
    "    dis_price =total_cost - (total_cost/100)*5\n",
    "    print(\"Discount give is \",(total_cost/100)*5)\n",
    "    print(\"Discount price is\", dis_price)"
   ]
  },
  {
   "cell_type": "code",
   "execution_count": 17,
   "metadata": {},
   "outputs": [
    {
     "name": "stdout",
     "output_type": "stream",
     "text": [
      "Enter Your Obatinad Marks = 900\n",
      "Enter Your Total Marks = 1100\n",
      "Percentage is  = 81.81818181818181\n",
      "A\n"
     ]
    }
   ],
   "source": [
    "obt_marks=int(input(\"Enter Your Obatinad Marks = \"))\n",
    "total_Marks=int(input(\"Enter Your Total Marks = \"))\n",
    "percentage=obt_marks*100/total_Marks\n",
    "print(\"Percentage is  =\", percentage)\n",
    "#if percentage <=25:\n",
    " #   print(\"F\")\n",
    "if percentage <=45:\n",
    "    print(\"E\")\n",
    "elif percentage <=50:\n",
    "    print(\"D\")\n",
    "elif percentage <=60:\n",
    "    print(\"C\")\n",
    "elif percentage <=80:\n",
    "    print(\"B\")\n",
    "elif percentage <90:\n",
    "    print(\"A\")\n",
    "else:\n",
    "    print(\"F\")\n"
   ]
  },
  {
   "cell_type": "code",
   "execution_count": 27,
   "metadata": {},
   "outputs": [
    {
     "name": "stdout",
     "output_type": "stream",
     "text": [
      "Enter Man 1 Age76\n",
      "Enter Man 2 age54\n",
      "Enter Man 3 age45\n",
      "youngest Man 45\n",
      "oldest Man 76\n"
     ]
    }
   ],
   "source": [
    "Man1=int(input(\"Enter Man 1 Age\"))\n",
    "Man2=int(input(\"Enter Man 2 age\"))\n",
    "Man3=int(input(\"Enter Man 3 age\"))\n",
    "oldest=max(Man1,Man2,Man3)\n",
    "youngest=min(Man1,Man2,Man3)\n",
    "print(\"youngest Man\", youngest)\n",
    "print(\"oldest Man\",oldest)"
   ]
  },
  {
   "cell_type": "code",
   "execution_count": 29,
   "metadata": {},
   "outputs": [
    {
     "name": "stdout",
     "output_type": "stream",
     "text": [
      "Enter Your Absalute Valu-1\n",
      "Absalute is  1\n"
     ]
    }
   ],
   "source": [
    "num=int(input(\"Enter Your Absalute Valu\"))\n",
    "if num <0:\n",
    "    num=num*-1\n",
    "    print(\"Absalute is \", num)\n",
    "else:\n",
    "    print(\"Absalute is \", num)"
   ]
  }
 ],
 "metadata": {
  "kernelspec": {
   "display_name": "Python 3",
   "language": "python",
   "name": "python3"
  },
  "language_info": {
   "codemirror_mode": {
    "name": "ipython",
    "version": 3
   },
   "file_extension": ".py",
   "mimetype": "text/x-python",
   "name": "python",
   "nbconvert_exporter": "python",
   "pygments_lexer": "ipython3",
   "version": "3.7.4"
  }
 },
 "nbformat": 4,
 "nbformat_minor": 2
}
