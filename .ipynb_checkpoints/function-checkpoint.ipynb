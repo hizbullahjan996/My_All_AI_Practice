{
 "cells": [
  {
   "cell_type": "code",
   "execution_count": 17,
   "id": "69228c13-9402-4cd4-97e2-7e573561ce30",
   "metadata": {},
   "outputs": [
    {
     "name": "stdout",
     "output_type": "stream",
     "text": [
      "(1, 0, 0)\n"
     ]
    }
   ],
   "source": [
    "def mod2plus5(x1, x2,x3):\n",
    "    \"\"\"Return the remainder plus 5 of three valu\"\"\"\n",
    "    def inner(x):\n",
    "        \"\"\"Return the remainder plus 5 of a valu\"\"\"\n",
    "        return x % 2 + 0\n",
    "    return (inner(x1), inner(x2),inner(x2))\n",
    "print(mod2plus5(1,2,3))"
   ]
  },
  {
   "cell_type": "code",
   "execution_count": 21,
   "id": "f4451f05-c6a9-4760-8ce2-e3bfce9b11cb",
   "metadata": {},
   "outputs": [
    {
     "name": "stdout",
     "output_type": "stream",
     "text": [
      "Orignal List: [1, 2, 3, 47]\n",
      "Modified List: [1, 4, 9, 2209]\n"
     ]
    }
   ],
   "source": [
    "def pure_func(List):\n",
    "    New_List=[]\n",
    "    for i in List:\n",
    "        New_List.append(i**2)\n",
    "    return New_List\n",
    "orignal_List = [1,2,3,47]\n",
    "Modified_List = pure_func(orignal_List)\n",
    "print(\"Orignal List:\",orignal_List)\n",
    "print(\"Modified List:\",Modified_List)"
   ]
  },
  {
   "cell_type": "code",
   "execution_count": 4,
   "id": "7ce66620-3bdf-4645-87f9-433dcde62129",
   "metadata": {},
   "outputs": [
    {
     "name": "stdout",
     "output_type": "stream",
     "text": [
      "10\n"
     ]
    }
   ],
   "source": [
    "def Sum(L,i,n,count):\n",
    "    if n<= i:\n",
    "        return count\n",
    "    count +=L[i]\n",
    "    count = Sum(L, i + 1, n, count)\n",
    "    return count\n",
    "L=[1,2,3,4]\n",
    "count=0\n",
    "n = len(L)\n",
    "print(Sum(L,0,n,count))\n",
    "    "
   ]
  },
  {
   "cell_type": "code",
   "execution_count": 15,
   "id": "658e3981-8a8f-47cd-b4f0-42a2d437c25a",
   "metadata": {},
   "outputs": [
    {
     "name": "stdin",
     "output_type": "stream",
     "text": [
      "Please Enter The Text:  the name is hiz Bullah\n"
     ]
    },
    {
     "name": "stdout",
     "output_type": "stream",
     "text": [
      "the name is hiz Bullah\n"
     ]
    },
    {
     "name": "stdin",
     "output_type": "stream",
     "text": [
      "Please Enter The Text:  KHan Jan\n"
     ]
    },
    {
     "name": "stdout",
     "output_type": "stream",
     "text": [
      "KHan Jan\n"
     ]
    }
   ],
   "source": [
    "def shout(text):\n",
    "    return text.upper()\n",
    "def whisper(text):\n",
    "    return text.lower()\n",
    "def greet(func):\n",
    "    greeting = (input(\"Please Enter The Text: \"))\n",
    "    print(greeting)\n",
    "greet(shout)\n",
    "greet(whisper)"
   ]
  }
 ],
 "metadata": {
  "kernelspec": {
   "display_name": "Python 3 (ipykernel)",
   "language": "python",
   "name": "python3"
  },
  "language_info": {
   "codemirror_mode": {
    "name": "ipython",
    "version": 3
   },
   "file_extension": ".py",
   "mimetype": "text/x-python",
   "name": "python",
   "nbconvert_exporter": "python",
   "pygments_lexer": "ipython3",
   "version": "3.11.7"
  }
 },
 "nbformat": 4,
 "nbformat_minor": 5
}
