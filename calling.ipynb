{
 "cells": [
  {
   "cell_type": "code",
   "execution_count": null,
   "id": "ab54fbe2-8c2b-4e74-b45c-abe444b9a2e1",
   "metadata": {},
   "outputs": [],
   "source": [
    "import calcu\n",
    "print(calcu.add(12,2))\n",
    "print(calcu.mul(12,3))\n",
    "print(calcu.div(12,45))"
   ]
  },
  {
   "cell_type": "code",
   "execution_count": 5,
   "id": "f204a0da-f2dc-4805-a4ac-b6df2b524d0c",
   "metadata": {},
   "outputs": [
    {
     "name": "stdout",
     "output_type": "stream",
     "text": [
      "78.5\n",
      "6\n",
      "12.0\n"
     ]
    }
   ],
   "source": [
    "\n",
    "import area\n",
    "    \n",
    "print(area.circle_area(5))\n",
    "print(area.rectangle_area(3, 2))\n",
    "print(area.triangle_area(4, 6))\n"
   ]
  },
  {
   "cell_type": "code",
   "execution_count": 8,
   "id": "55ec8299-3d71-49b6-b617-cb9ee2715598",
   "metadata": {},
   "outputs": [
    {
     "name": "stdout",
     "output_type": "stream",
     "text": [
      "28.26\n",
      "6\n",
      "12.0\n"
     ]
    }
   ],
   "source": [
    "import area\n",
    "    \n",
    "print(area.circle_area(3))\n",
    "print(area.rectangle_area(3, 2))\n",
    "print(area.triangle_area(4, 6))\n"
   ]
  },
  {
   "cell_type": "code",
   "execution_count": null,
   "id": "fd324735-9e62-46f0-9f47-df0af9e86d44",
   "metadata": {},
   "outputs": [],
   "source": []
  }
 ],
 "metadata": {
  "kernelspec": {
   "display_name": "Python 3 (ipykernel)",
   "language": "python",
   "name": "python3"
  },
  "language_info": {
   "codemirror_mode": {
    "name": "ipython",
    "version": 3
   },
   "file_extension": ".py",
   "mimetype": "text/x-python",
   "name": "python",
   "nbconvert_exporter": "python",
   "pygments_lexer": "ipython3",
   "version": "3.11.7"
  }
 },
 "nbformat": 4,
 "nbformat_minor": 5
}
